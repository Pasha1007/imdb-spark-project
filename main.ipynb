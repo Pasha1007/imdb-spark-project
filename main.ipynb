{
 "cells": [
  {
   "cell_type": "code",
   "execution_count": 1,
   "metadata": {},
   "outputs": [
    {
     "name": "stdout",
     "output_type": "stream",
     "text": [
      "Defaulting to user installation because normal site-packages is not writeable\n",
      "Requirement already satisfied: pyspark in /Users/pashakramar/Library/Python/3.9/lib/python/site-packages (3.5.0)\n",
      "Requirement already satisfied: py4j==0.10.9.7 in /Users/pashakramar/Library/Python/3.9/lib/python/site-packages (from pyspark) (0.10.9.7)\n",
      "\u001b[33mWARNING: You are using pip version 21.2.4; however, version 23.3.1 is available.\n",
      "You should consider upgrading via the '/Applications/Xcode.app/Contents/Developer/usr/bin/python3 -m pip install --upgrade pip' command.\u001b[0m\n",
      "Note: you may need to restart the kernel to use updated packages.\n"
     ]
    },
    {
     "name": "stderr",
     "output_type": "stream",
     "text": [
      "23/12/05 00:58:21 WARN Utils: Your hostname, MacBook-Pro-Pasa.local resolves to a loopback address: 127.0.0.1; using 192.168.1.35 instead (on interface en0)\n",
      "23/12/05 00:58:21 WARN Utils: Set SPARK_LOCAL_IP if you need to bind to another address\n",
      "Setting default log level to \"WARN\".\n",
      "To adjust logging level use sc.setLogLevel(newLevel). For SparkR, use setLogLevel(newLevel).\n",
      "23/12/05 00:58:22 WARN NativeCodeLoader: Unable to load native-hadoop library for your platform... using builtin-java classes where applicable\n"
     ]
    }
   ],
   "source": [
    "%pip install pyspark\n",
    "from pyspark import SparkConf\n",
    "from pyspark.sql import SparkSession\n",
    "from pyspark.sql.types import StructType, StructField, StringType, IntegerType, BooleanType, DoubleType\n",
    "from pyspark.sql.functions import count, avg, format_number, desc, asc,col, split, explode, max\n",
    "sp = SparkSession.builder.master(\"local\").appName(\"my-spark-proj\").config(conf=SparkConf()).getOrCreate()"
   ]
  },
  {
   "cell_type": "code",
   "execution_count": 2,
   "metadata": {},
   "outputs": [
    {
     "name": "stdout",
     "output_type": "stream",
     "text": [
      "name_basics data:\n",
      "+---------+---------------+---------+---------+--------------------+--------------------+\n",
      "|   nconst|    primaryName|birthYear|deathYear|   primaryProfession|      knownForTitles|\n",
      "+---------+---------------+---------+---------+--------------------+--------------------+\n",
      "|nm0000001|   Fred Astaire|     1899|     1987|soundtrack,actor,...|tt0053137,tt00319...|\n",
      "|nm0000002|  Lauren Bacall|     1924|     2014|  actress,soundtrack|tt0037382,tt00383...|\n",
      "|nm0000003|Brigitte Bardot|     1934|       \\N|actress,soundtrac...|tt0049189,tt00573...|\n",
      "|nm0000004|   John Belushi|     1949|     1982|actor,soundtrack,...|tt0080455,tt00725...|\n",
      "|nm0000005| Ingmar Bergman|     1918|     2007|writer,director,a...|tt0069467,tt00839...|\n",
      "+---------+---------------+---------+---------+--------------------+--------------------+\n",
      "only showing top 5 rows\n",
      "\n",
      "akas data:\n",
      "+---------+--------+--------------------+------+--------+-----------+-------------+---------------+\n",
      "|  titleId|ordering|               title|region|language|      types|   attributes|isOriginalTitle|\n",
      "+---------+--------+--------------------+------+--------+-----------+-------------+---------------+\n",
      "|tt0000001|       1|          Карменсіта|    UA|      \\N|imdbDisplay|           \\N|              0|\n",
      "|tt0000001|       2|          Carmencita|    DE|      \\N|         \\N|literal title|              0|\n",
      "|tt0000001|       3|Carmencita - span...|    HU|      \\N|imdbDisplay|           \\N|              0|\n",
      "|tt0000001|       4|          Καρμενσίτα|    GR|      \\N|imdbDisplay|           \\N|              0|\n",
      "|tt0000001|       5|          Карменсита|    RU|      \\N|imdbDisplay|           \\N|              0|\n",
      "+---------+--------+--------------------+------+--------+-----------+-------------+---------------+\n",
      "only showing top 5 rows\n",
      "\n",
      "title_basics data:\n",
      "+---------+---------+--------------------+--------------------+-------+---------+-------+--------------+--------------------+\n",
      "|   tconst|titleType|        primaryTitle|       originalTitle|isAdult|startYear|endYear|runtimeMinutes|              genres|\n",
      "+---------+---------+--------------------+--------------------+-------+---------+-------+--------------+--------------------+\n",
      "|tt0000001|    short|          Carmencita|          Carmencita|      0|     1894|     \\N|             1|   Documentary,Short|\n",
      "|tt0000002|    short|Le clown et ses c...|Le clown et ses c...|      0|     1892|     \\N|             5|     Animation,Short|\n",
      "|tt0000003|    short|      Pauvre Pierrot|      Pauvre Pierrot|      0|     1892|     \\N|             4|Animation,Comedy,...|\n",
      "|tt0000004|    short|         Un bon bock|         Un bon bock|      0|     1892|     \\N|            12|     Animation,Short|\n",
      "|tt0000005|    short|    Blacksmith Scene|    Blacksmith Scene|      0|     1893|     \\N|             1|        Comedy,Short|\n",
      "+---------+---------+--------------------+--------------------+-------+---------+-------+--------------+--------------------+\n",
      "only showing top 5 rows\n",
      "\n",
      "crew data:\n",
      "+---------+---------+-------+\n",
      "|   tconst|directors|writers|\n",
      "+---------+---------+-------+\n",
      "|tt0000001|nm0005690|     \\N|\n",
      "|tt0000002|nm0721526|     \\N|\n",
      "|tt0000003|nm0721526|     \\N|\n",
      "|tt0000004|nm0721526|     \\N|\n",
      "|tt0000005|nm0005690|     \\N|\n",
      "+---------+---------+-------+\n",
      "only showing top 5 rows\n",
      "\n",
      "episodes data:\n",
      "+---------+------------+------------+-------------+\n",
      "|   tconst|parentTconst|seasonNumber|episodeNumber|\n",
      "+---------+------------+------------+-------------+\n",
      "|tt0041951|   tt0041038|           1|            9|\n",
      "|tt0042816|   tt0989125|           1|           17|\n",
      "|tt0042889|   tt0989125|          \\N|           \\N|\n",
      "|tt0043426|   tt0040051|           3|           42|\n",
      "|tt0043631|   tt0989125|           2|           16|\n",
      "+---------+------------+------------+-------------+\n",
      "only showing top 5 rows\n",
      "\n",
      "principals data:\n",
      "+---------+--------+---------+---------------+--------------------+----------+\n",
      "|   tconst|ordering|   nconst|       category|                 job|characters|\n",
      "+---------+--------+---------+---------------+--------------------+----------+\n",
      "|tt0000001|       1|nm1588970|           self|                  \\N|  [\"Self\"]|\n",
      "|tt0000001|       2|nm0005690|       director|                  \\N|        \\N|\n",
      "|tt0000001|       3|nm0374658|cinematographer|director of photo...|        \\N|\n",
      "|tt0000002|       1|nm0721526|       director|                  \\N|        \\N|\n",
      "|tt0000002|       2|nm1335271|       composer|                  \\N|        \\N|\n",
      "+---------+--------+---------+---------------+--------------------+----------+\n",
      "only showing top 5 rows\n",
      "\n",
      "ratings data:\n",
      "+---------+-------------+--------+\n",
      "|   tconst|averageRating|numVotes|\n",
      "+---------+-------------+--------+\n",
      "|tt0000001|          5.7|    2007|\n",
      "|tt0000002|          5.8|     270|\n",
      "|tt0000003|          6.5|    1918|\n",
      "|tt0000004|          5.5|     178|\n",
      "|tt0000005|          6.2|    2696|\n",
      "+---------+-------------+--------+\n",
      "only showing top 5 rows\n",
      "\n"
     ]
    }
   ],
   "source": [
    "def show_funct():\n",
    "    name_basics = sp.read.csv('./data/name.basics.tsv.gz', header=True, sep='\\t')\n",
    "    title_akas = sp.read.csv('./data/title.akas.tsv.gz', header=True, sep='\\t')\n",
    "    title_basics = sp.read.csv('./data/title.basics.tsv.gz', header=True, sep='\\t')\n",
    "    title_crew = sp.read.csv('./data/title.crew.tsv.gz', header=True, sep='\\t')\n",
    "    title_episode = sp.read.csv('./data/title.episode.tsv.gz', header=True, sep='\\t')\n",
    "    title_principals = sp.read.csv('./data/title.principals.tsv.gz', header=True, sep='\\t')\n",
    "    title_ratings = sp.read.csv('./data/title.ratings.tsv.gz', header=True, sep='\\t')\n",
    "\n",
    "    print(\"name_basics data:\")\n",
    "    name_basics.show(5)\n",
    "    print(\"akas data:\")\n",
    "    title_akas.show(5)\n",
    "    print(\"title_basics data:\")\n",
    "    title_basics.show(5)\n",
    "    print(\"crew data:\")\n",
    "    title_crew.show(5)\n",
    "    print(\"episodes data:\")\n",
    "    title_episode.show(5)\n",
    "    print(\"principals data:\")\n",
    "    title_principals.show(5)\n",
    "    print(\"ratings data:\")\n",
    "    title_ratings.show(5)\n",
    "show_funct()"
   ]
  },
  {
   "cell_type": "code",
   "execution_count": 3,
   "metadata": {},
   "outputs": [
    {
     "name": "stdout",
     "output_type": "stream",
     "text": [
      "+---------+-------------------+---------+---------+--------------------+--------------------+\n",
      "|   nconst|        primaryName|birthYear|deathYear|   primaryProfession|      knownForTitles|\n",
      "+---------+-------------------+---------+---------+--------------------+--------------------+\n",
      "|nm0000001|       Fred Astaire|     1899|     1987|soundtrack,actor,...|tt0053137,tt00319...|\n",
      "|nm0000002|      Lauren Bacall|     1924|     2014|  actress,soundtrack|tt0037382,tt00383...|\n",
      "|nm0000003|    Brigitte Bardot|     1934|       \\N|actress,soundtrac...|tt0049189,tt00573...|\n",
      "|nm0000004|       John Belushi|     1949|     1982|actor,soundtrack,...|tt0080455,tt00725...|\n",
      "|nm0000005|     Ingmar Bergman|     1918|     2007|writer,director,a...|tt0069467,tt00839...|\n",
      "|nm0000006|     Ingrid Bergman|     1915|     1982|actress,soundtrac...|tt0038787,tt00381...|\n",
      "|nm0000007|    Humphrey Bogart|     1899|     1957|actor,soundtrack,...|tt0037382,tt00432...|\n",
      "|nm0000008|      Marlon Brando|     1924|     2004|actor,soundtrack,...|tt0068646,tt00787...|\n",
      "|nm0000009|     Richard Burton|     1925|     1984|actor,soundtrack,...|tt0059749,tt00578...|\n",
      "|nm0000010|       James Cagney|     1899|     1986|actor,soundtrack,...|tt0035575,tt00318...|\n",
      "|nm0000011|        Gary Cooper|     1901|     1961|actor,soundtrack,...|tt0027996,tt00447...|\n",
      "|nm0000012|        Bette Davis|     1908|     1989|actress,soundtrac...|tt0056687,tt00351...|\n",
      "|nm0000013|          Doris Day|     1922|     2019|soundtrack,actres...|tt0053172,tt00455...|\n",
      "|nm0000014|Olivia de Havilland|     1916|     2020|  actress,soundtrack|tt0031381,tt00408...|\n",
      "|nm0000015|         James Dean|     1931|     1955| actor,miscellaneous|tt0048028,tt00432...|\n",
      "|nm0000016|    Georges Delerue|     1925|     1992|composer,soundtra...|tt0069946,tt00917...|\n",
      "|nm0000017|   Marlene Dietrich|     1901|     1992|soundtrack,actres...|tt0021156,tt00550...|\n",
      "|nm0000018|       Kirk Douglas|     1916|     2020|actor,producer,so...|tt0049456,tt00543...|\n",
      "|nm0000019|   Federico Fellini|     1920|     1993|writer,director,a...|tt0056801,tt00711...|\n",
      "|nm0000020|        Henry Fonda|     1905|     1982|actor,producer,so...|tt0082846,tt00512...|\n",
      "+---------+-------------------+---------+---------+--------------------+--------------------+\n",
      "only showing top 20 rows\n",
      "\n",
      "+---------+---------+--------------------+--------------------+-------+---------+-------+--------------+--------------------+\n",
      "|   tconst|titleType|        primaryTitle|       originalTitle|isAdult|startYear|endYear|runtimeMinutes|              genres|\n",
      "+---------+---------+--------------------+--------------------+-------+---------+-------+--------------+--------------------+\n",
      "|tt0000001|    short|          Carmencita|          Carmencita|      0|     1894|     \\N|             1|   Documentary,Short|\n",
      "|tt0000002|    short|Le clown et ses c...|Le clown et ses c...|      0|     1892|     \\N|             5|     Animation,Short|\n",
      "|tt0000003|    short|      Pauvre Pierrot|      Pauvre Pierrot|      0|     1892|     \\N|             4|Animation,Comedy,...|\n",
      "|tt0000004|    short|         Un bon bock|         Un bon bock|      0|     1892|     \\N|            12|     Animation,Short|\n",
      "|tt0000005|    short|    Blacksmith Scene|    Blacksmith Scene|      0|     1893|     \\N|             1|        Comedy,Short|\n",
      "|tt0000006|    short|   Chinese Opium Den|   Chinese Opium Den|      0|     1894|     \\N|             1|               Short|\n",
      "|tt0000007|    short|Corbett and Court...|Corbett and Court...|      0|     1894|     \\N|             1|         Short,Sport|\n",
      "|tt0000008|    short|Edison Kinetoscop...|Edison Kinetoscop...|      0|     1894|     \\N|             1|   Documentary,Short|\n",
      "|tt0000009|    movie|          Miss Jerry|          Miss Jerry|      0|     1894|     \\N|            45|             Romance|\n",
      "|tt0000010|    short| Leaving the Factory|La sortie de l'us...|      0|     1895|     \\N|             1|   Documentary,Short|\n",
      "|tt0000011|    short|Akrobatisches Pot...|Akrobatisches Pot...|      0|     1895|     \\N|             1|   Documentary,Short|\n",
      "|tt0000012|    short|The Arrival of a ...|L'arrivée d'un tr...|      0|     1896|     \\N|             1|   Documentary,Short|\n",
      "|tt0000013|    short|The Photographica...|Le débarquement d...|      0|     1895|     \\N|             1|   Documentary,Short|\n",
      "|tt0000014|    short| The Waterer Watered|   L'arroseur arrosé|      0|     1895|     \\N|             1|        Comedy,Short|\n",
      "|tt0000015|    short| Autour d'une cabine| Autour d'une cabine|      0|     1894|     \\N|             2|     Animation,Short|\n",
      "|tt0000016|    short|Boat Leaving the ...|Barque sortant du...|      0|     1895|     \\N|             1|   Documentary,Short|\n",
      "|tt0000017|    short|Italienischer Bau...|Italienischer Bau...|      0|     1895|     \\N|             1|   Documentary,Short|\n",
      "|tt0000018|    short|Das boxende Känguruh|Das boxende Känguruh|      0|     1895|     \\N|             1|               Short|\n",
      "|tt0000019|    short|    The Clown Barber|    The Clown Barber|      0|     1898|     \\N|          NULL|        Comedy,Short|\n",
      "|tt0000020|    short|      The Derby 1895|      The Derby 1895|      0|     1895|     \\N|             1|Documentary,Short...|\n",
      "+---------+---------+--------------------+--------------------+-------+---------+-------+--------------+--------------------+\n",
      "only showing top 20 rows\n",
      "\n",
      "+---------+--------+--------------------+------+--------+-----------+--------------------+---------------+\n",
      "|  titleId|ordering|               title|region|language|      types|          attributes|isOriginalTitle|\n",
      "+---------+--------+--------------------+------+--------+-----------+--------------------+---------------+\n",
      "|tt0000001|       1|          Карменсіта|    UA|      \\N|imdbDisplay|                  \\N|           NULL|\n",
      "|tt0000001|       2|          Carmencita|    DE|      \\N|         \\N|       literal title|           NULL|\n",
      "|tt0000001|       3|Carmencita - span...|    HU|      \\N|imdbDisplay|                  \\N|           NULL|\n",
      "|tt0000001|       4|          Καρμενσίτα|    GR|      \\N|imdbDisplay|                  \\N|           NULL|\n",
      "|tt0000001|       5|          Карменсита|    RU|      \\N|imdbDisplay|                  \\N|           NULL|\n",
      "|tt0000001|       6|          Carmencita|    US|      \\N|imdbDisplay|                  \\N|           NULL|\n",
      "|tt0000001|       7|          Carmencita|    \\N|      \\N|   original|                  \\N|           NULL|\n",
      "|tt0000001|       8|      カルメンチータ|    JP|      ja|imdbDisplay|                  \\N|           NULL|\n",
      "|tt0000002|       1|Le clown et ses c...|    \\N|      \\N|   original|                  \\N|           NULL|\n",
      "|tt0000002|       2|Le clown et ses c...|    FR|      \\N|imdbDisplay|                  \\N|           NULL|\n",
      "|tt0000002|       3|   A bohóc és kutyái|    HU|      \\N|imdbDisplay|                  \\N|           NULL|\n",
      "|tt0000002|       4|Der Clown und sei...|    DE|      \\N|         \\N|       literal title|           NULL|\n",
      "|tt0000002|       5|Clovnul si cainii...|    RO|      \\N|imdbDisplay|                  \\N|           NULL|\n",
      "|tt0000002|       6|  Клоун и его собаки|    RU|      \\N|imdbDisplay|                  \\N|           NULL|\n",
      "|tt0000002|       7|The Clown and His...|    US|      \\N|         \\N|literal English t...|           NULL|\n",
      "|tt0000002|       8|          道化師と犬|    JP|      ja|imdbDisplay|                  \\N|           NULL|\n",
      "|tt0000003|       1|    Sarmanul Pierrot|    RO|      \\N|imdbDisplay|                  \\N|           NULL|\n",
      "|tt0000003|       2|     Szegény Pierrot|    HU|      \\N|imdbDisplay|                  \\N|           NULL|\n",
      "|tt0000003|       3|        哀れなピエロ|    JP|      ja|imdbDisplay|                  \\N|           NULL|\n",
      "|tt0000003|       4|        Бідний П'єро|    UA|      \\N|imdbDisplay|                  \\N|           NULL|\n",
      "+---------+--------+--------------------+------+--------+-----------+--------------------+---------------+\n",
      "only showing top 20 rows\n",
      "\n",
      "+---------+-------------------+---------+\n",
      "|   tconst|          directors|  writers|\n",
      "+---------+-------------------+---------+\n",
      "|tt0000001|          nm0005690|       \\N|\n",
      "|tt0000002|          nm0721526|       \\N|\n",
      "|tt0000003|          nm0721526|       \\N|\n",
      "|tt0000004|          nm0721526|       \\N|\n",
      "|tt0000005|          nm0005690|       \\N|\n",
      "|tt0000006|          nm0005690|       \\N|\n",
      "|tt0000007|nm0005690,nm0374658|       \\N|\n",
      "|tt0000008|          nm0005690|       \\N|\n",
      "|tt0000009|          nm0085156|nm0085156|\n",
      "|tt0000010|          nm0525910|       \\N|\n",
      "|tt0000011|          nm0804434|       \\N|\n",
      "|tt0000012|nm0525908,nm0525910|       \\N|\n",
      "|tt0000013|          nm0525910|       \\N|\n",
      "|tt0000014|          nm0525910|       \\N|\n",
      "|tt0000015|          nm0721526|       \\N|\n",
      "|tt0000016|          nm0525910|       \\N|\n",
      "|tt0000017|nm0804434,nm1587194|       \\N|\n",
      "|tt0000018|          nm0804434|       \\N|\n",
      "|tt0000019|          nm0932055|       \\N|\n",
      "|tt0000020|          nm0010291|       \\N|\n",
      "+---------+-------------------+---------+\n",
      "only showing top 20 rows\n",
      "\n",
      "+---------+------------+------------+-------------+\n",
      "|   tconst|parentTconst|seasonNumber|episodeNumber|\n",
      "+---------+------------+------------+-------------+\n",
      "|tt0041951|   tt0041038|           1|            9|\n",
      "|tt0042816|   tt0989125|           1|           17|\n",
      "|tt0042889|   tt0989125|        NULL|         NULL|\n",
      "|tt0043426|   tt0040051|           3|           42|\n",
      "|tt0043631|   tt0989125|           2|           16|\n",
      "|tt0043693|   tt0989125|           2|            8|\n",
      "|tt0043710|   tt0989125|           3|            3|\n",
      "|tt0044093|   tt0959862|           1|            6|\n",
      "|tt0044668|   tt0044243|           2|           16|\n",
      "|tt0044901|   tt0989125|           3|           46|\n",
      "|tt0045519|   tt0989125|           4|           11|\n",
      "|tt0045960|   tt0044284|           2|            3|\n",
      "|tt0046135|   tt0989125|           4|            5|\n",
      "|tt0046150|   tt0341798|        NULL|         NULL|\n",
      "|tt0046855|   tt0046643|           1|            4|\n",
      "|tt0046864|   tt0989125|           5|           20|\n",
      "|tt0047810|   tt0914702|           3|           36|\n",
      "|tt0047852|   tt0047745|           1|           15|\n",
      "|tt0047858|   tt0046637|           2|            9|\n",
      "|tt0047961|   tt0989125|           6|            5|\n",
      "+---------+------------+------------+-------------+\n",
      "only showing top 20 rows\n",
      "\n",
      "+---------+--------+---------+---------------+--------------------+--------------+\n",
      "|   tconst|ordering|   nconst|       category|                 job|    characters|\n",
      "+---------+--------+---------+---------------+--------------------+--------------+\n",
      "|tt0000001|       1|nm1588970|           self|                  \\N|      [\"Self\"]|\n",
      "|tt0000001|       2|nm0005690|       director|                  \\N|            \\N|\n",
      "|tt0000001|       3|nm0374658|cinematographer|director of photo...|            \\N|\n",
      "|tt0000002|       1|nm0721526|       director|                  \\N|            \\N|\n",
      "|tt0000002|       2|nm1335271|       composer|                  \\N|            \\N|\n",
      "|tt0000003|       1|nm0721526|       director|                  \\N|            \\N|\n",
      "|tt0000003|       2|nm1770680|       producer|            producer|            \\N|\n",
      "|tt0000003|       3|nm1335271|       composer|                  \\N|            \\N|\n",
      "|tt0000003|       4|nm5442200|         editor|                  \\N|            \\N|\n",
      "|tt0000004|       1|nm0721526|       director|                  \\N|            \\N|\n",
      "|tt0000004|       2|nm1335271|       composer|                  \\N|            \\N|\n",
      "|tt0000005|       1|nm0443482|          actor|                  \\N|[\"Blacksmith\"]|\n",
      "|tt0000005|       2|nm0653042|          actor|                  \\N| [\"Assistant\"]|\n",
      "|tt0000005|       3|nm0005690|       director|                  \\N|            \\N|\n",
      "|tt0000005|       4|nm0249379|       producer|            producer|            \\N|\n",
      "|tt0000006|       1|nm0005690|       director|                  \\N|            \\N|\n",
      "|tt0000007|       1|nm0179163|          actor|                  \\N|            \\N|\n",
      "|tt0000007|       2|nm0183947|          actor|                  \\N|            \\N|\n",
      "|tt0000007|       3|nm0005690|       director|                  \\N|            \\N|\n",
      "|tt0000007|       4|nm0374658|       director|                  \\N|            \\N|\n",
      "+---------+--------+---------+---------------+--------------------+--------------+\n",
      "only showing top 20 rows\n",
      "\n",
      "+---------+-------------+--------+\n",
      "|   tconst|averageRating|numVotes|\n",
      "+---------+-------------+--------+\n",
      "|tt0000001|          5.7|    2007|\n",
      "|tt0000002|          5.8|     270|\n",
      "|tt0000003|          6.5|    1918|\n",
      "|tt0000004|          5.5|     178|\n",
      "|tt0000005|          6.2|    2696|\n",
      "|tt0000006|          5.0|     183|\n",
      "|tt0000007|          5.4|     843|\n",
      "|tt0000008|          5.4|    2154|\n",
      "|tt0000009|          5.3|     208|\n",
      "|tt0000010|          6.9|    7359|\n",
      "|tt0000011|          5.2|     378|\n",
      "|tt0000012|          7.4|   12550|\n",
      "|tt0000013|          5.7|    1922|\n",
      "|tt0000014|          7.1|    5672|\n",
      "|tt0000015|          6.2|    1132|\n",
      "|tt0000016|          5.9|    1545|\n",
      "|tt0000017|          4.6|     334|\n",
      "|tt0000018|          5.3|     611|\n",
      "|tt0000019|          5.1|      31|\n",
      "|tt0000020|          4.8|     368|\n",
      "+---------+-------------+--------+\n",
      "only showing top 20 rows\n",
      "\n"
     ]
    }
   ],
   "source": [
    "def create_scheme_and_display_dfs(name_basics_path, akas_path, basics_path, crew_path, episode_path, principals_path,\n",
    "                                  ratings_path):\n",
    "    name_basics_scheme = StructType([\n",
    "        StructField(\"nconst\", StringType(), True),\n",
    "        StructField(\"primaryName\", StringType(), True),\n",
    "        StructField(\"birthYear\", StringType(), True),\n",
    "        StructField(\"deathYear\", StringType(), True),\n",
    "        StructField(\"primaryProfession\", StringType(), True),\n",
    "        StructField(\"knownForTitles\", StringType(), True)\n",
    "    ])\n",
    "    akas_scheme = StructType([\n",
    "        StructField(\"titleId\", StringType(), True),\n",
    "        StructField(\"ordering\", IntegerType(), True),\n",
    "        StructField(\"title\", StringType(), True),\n",
    "        StructField(\"region\", StringType(), True),\n",
    "        StructField(\"language\", StringType(), True),\n",
    "        StructField(\"types\", StringType(), True),\n",
    "        StructField(\"attributes\", StringType(), True),\n",
    "        StructField(\"isOriginalTitle\", BooleanType(), True),\n",
    "    ])\n",
    "    title_basics_scheme = StructType([\n",
    "        StructField(\"tconst\", StringType(), True),\n",
    "        StructField(\"titleType\", StringType(), True),\n",
    "        StructField(\"primaryTitle\", StringType(), True),\n",
    "        StructField(\"originalTitle\", StringType(), True),\n",
    "        StructField(\"isAdult\", IntegerType(), True),\n",
    "        StructField(\"startYear\", StringType(), True),\n",
    "        StructField(\"endYear\", StringType(), True),\n",
    "        StructField(\"runtimeMinutes\", IntegerType(), True),\n",
    "        StructField(\"genres\", StringType(), True),\n",
    "    ])\n",
    "    crew_scheme = StructType([\n",
    "        StructField(\"tconst\", StringType(), True),\n",
    "        StructField(\"directors\", StringType(), True),\n",
    "        StructField(\"writers\", StringType(), True)\n",
    "    ])\n",
    "\n",
    "    episode_scheme = StructType([\n",
    "        StructField(\"tconst\", StringType(), True),\n",
    "        StructField(\"parentTconst\", StringType(), True),\n",
    "        StructField(\"seasonNumber\", IntegerType(), True),\n",
    "        StructField(\"episodeNumber\", IntegerType(), True)\n",
    "    ])\n",
    "\n",
    "    principals_scheme = StructType([\n",
    "        StructField(\"tconst\", StringType(), True),\n",
    "        StructField(\"ordering\", IntegerType(), True),\n",
    "        StructField(\"nconst\", StringType(), True),\n",
    "        StructField(\"category\", StringType(), True),\n",
    "        StructField(\"job\", StringType(), True),\n",
    "        StructField(\"characters\", StringType(), True),\n",
    "    ])\n",
    "\n",
    "    ratings_scheme = StructType([\n",
    "        StructField(\"tconst\", StringType(), True),\n",
    "        StructField(\"averageRating\", DoubleType(), True),\n",
    "        StructField(\"numVotes\", IntegerType(), True)\n",
    "    ])\n",
    "\n",
    "    # Read compressed files directly into DataFrames\n",
    "    name_basics_df = sp.read.option(\"delimiter\", \"\\t\").csv(name_basics_path, header=True, schema=name_basics_scheme)\n",
    "    title_akas_df = sp.read.option(\"delimiter\", \"\\t\").csv(akas_path, header=True, schema=akas_scheme)\n",
    "    title_basics_df = sp.read.option(\"delimiter\", \"\\t\").csv(basics_path, header=True, schema=title_basics_scheme)\n",
    "    title_crew_df = sp.read.option(\"delimiter\", \"\\t\").csv(crew_path, header=True, schema=crew_scheme)\n",
    "    title_episode_df = sp.read.option(\"delimiter\", \"\\t\").csv(episode_path, header=True, schema=episode_scheme)\n",
    "    title_principals_df = sp.read.option(\"delimiter\", \"\\t\").csv(principals_path, header=True, schema=principals_scheme)\n",
    "    title_ratings_df = sp.read.option(\"delimiter\", \"\\t\").csv(ratings_path, header=True, schema=ratings_scheme)\n",
    "\n",
    "    # Show the DataFrames\n",
    "    name_basics_df.show()\n",
    "    title_basics_df.show()\n",
    "    title_akas_df.show()\n",
    "    title_crew_df.show()\n",
    "    title_episode_df.show()\n",
    "    title_principals_df.show()\n",
    "    title_ratings_df.show()\n",
    "\n",
    "    return name_basics_df, title_akas_df, title_basics_df, title_crew_df, title_episode_df, title_principals_df, title_ratings_df\n",
    "\n",
    "name_basics_df, title_akas_df, title_basics_df, title_crew_df, title_episode_df, title_principals_df, title_ratings_df = create_scheme_and_display_dfs(\n",
    "    \"./data/name.basics.tsv.gz\", \"./data/title.akas.tsv.gz\", \"./data/title.basics.tsv.gz\",\n",
    "    \"./data/title.crew.tsv.gz\", \"./data/title.episode.tsv.gz\", \"./data/title.principals.tsv.gz\",\n",
    "    \"./data/title.ratings.tsv.gz\"\n",
    ")\n"
   ]
  },
  {
   "cell_type": "code",
   "execution_count": null,
   "metadata": {},
   "outputs": [
    {
     "name": "stderr",
     "output_type": "stream",
     "text": [
      "                                                                                \r"
     ]
    },
    {
     "name": "stdout",
     "output_type": "stream",
     "text": [
      "root\n",
      " |-- nconst: string (nullable = true)\n",
      " |-- primaryName: string (nullable = true)\n",
      " |-- birthYear: string (nullable = true)\n",
      " |-- deathYear: string (nullable = true)\n",
      " |-- primaryProfession: string (nullable = true)\n",
      " |-- knownForTitles: string (nullable = true)\n",
      "\n",
      "\n",
      "Columns -  ['nconst', 'primaryName', 'birthYear', 'deathYear', 'primaryProfession', 'knownForTitles']\n",
      "\n",
      " Count of columns - 6\n",
      "\n",
      "Number of rows -  13048362\n",
      "\n",
      "Describe:\n"
     ]
    },
    {
     "name": "stderr",
     "output_type": "stream",
     "text": [
      "[Stage 69:>                                                         (0 + 1) / 1]\r"
     ]
    },
    {
     "name": "stdout",
     "output_type": "stream",
     "text": [
      "+-------+---------+--------------------+-----------------+------------------+--------------------+-------------------+\n",
      "|summary|   nconst|         primaryName|        birthYear|         deathYear|   primaryProfession|     knownForTitles|\n",
      "+-------+---------+--------------------+-----------------+------------------+--------------------+-------------------+\n",
      "|  count| 13048362|            13048362|         13048362|          13048362|            10448505|           13048362|\n",
      "|   mean|     NULL|                 NaN| 1952.96337448147|1992.6899380846685|                NULL|               NULL|\n",
      "| stddev|     NULL|                 NaN|34.90875797958213| 34.53603376328906|                NULL|               NULL|\n",
      "|    min|nm0000001|!'aru Ikhuisi Pie...|             0001|              0017|               actor|                 \\N|\n",
      "|    max|nm9993719|  ﻿Thesia Kouloungou|               \\N|                \\N|writer,visual_eff...|tt9916856,tt7297222|\n",
      "+-------+---------+--------------------+-----------------+------------------+--------------------+-------------------+\n",
      "\n",
      "== Parsed Logical Plan ==\n",
      "Relation [nconst#2654,primaryName#2655,birthYear#2656,deathYear#2657,primaryProfession#2658,knownForTitles#2659] csv\n",
      "\n",
      "== Analyzed Logical Plan ==\n",
      "nconst: string, primaryName: string, birthYear: string, deathYear: string, primaryProfession: string, knownForTitles: string\n",
      "Relation [nconst#2654,primaryName#2655,birthYear#2656,deathYear#2657,primaryProfession#2658,knownForTitles#2659] csv\n",
      "\n",
      "== Optimized Logical Plan ==\n",
      "Relation [nconst#2654,primaryName#2655,birthYear#2656,deathYear#2657,primaryProfession#2658,knownForTitles#2659] csv\n",
      "\n",
      "== Physical Plan ==\n",
      "FileScan csv [nconst#2654,primaryName#2655,birthYear#2656,deathYear#2657,primaryProfession#2658,knownForTitles#2659] Batched: false, DataFilters: [], Format: CSV, Location: InMemoryFileIndex(1 paths)[file:/Users/pashakramar/Desktop/BigData_IMDB/data/name.basics.tsv.gz], PartitionFilters: [], PushedFilters: [], ReadSchema: struct<nconst:string,primaryName:string,birthYear:string,deathYear:string,primaryProfession:strin...\n",
      "\n"
     ]
    },
    {
     "name": "stderr",
     "output_type": "stream",
     "text": [
      "                                                                                \r"
     ]
    }
   ],
   "source": [
    "# Name Basics show\n",
    "num_columns = len(name_basics_df.columns)\n",
    "num_rows = name_basics_df.count()\n",
    "\n",
    "name_basics_df.printSchema()\n",
    "\n",
    "print(\"\\nColumns - \", name_basics_df.columns)\n",
    "\n",
    "print(\"\\n Count of columns -\", num_columns)\n",
    "\n",
    "print(\"\\nNumber of rows - \", num_rows)\n",
    "\n",
    "print(\"\\nDescribe:\")\n",
    "name_basics_df.describe().show()\n",
    "name_basics_df.explain(mode='extended')"
   ]
  },
  {
   "cell_type": "code",
   "execution_count": 4,
   "metadata": {},
   "outputs": [
    {
     "name": "stdout",
     "output_type": "stream",
     "text": [
      "root\n",
      " |-- tconst: string (nullable = true)\n",
      " |-- averageRating: double (nullable = true)\n",
      " |-- numVotes: integer (nullable = true)\n",
      "\n",
      "\n",
      "Columns -  ['tconst', 'averageRating', 'numVotes']\n",
      "\n",
      " Count of columns - 3\n",
      "\n",
      "Number of rows -  1374013\n",
      "\n",
      "Describe:\n"
     ]
    },
    {
     "name": "stderr",
     "output_type": "stream",
     "text": [
      "[Stage 24:>                                                         (0 + 1) / 1]\r"
     ]
    },
    {
     "name": "stdout",
     "output_type": "stream",
     "text": [
      "+-------+---------+------------------+------------------+\n",
      "|summary|   tconst|     averageRating|          numVotes|\n",
      "+-------+---------+------------------+------------------+\n",
      "|  count|  1374013|           1374013|           1374013|\n",
      "|   mean|     NULL| 6.958483435018095| 1037.978271675741|\n",
      "| stddev|     NULL|1.3832747322493522|17593.254139984583|\n",
      "|    min|tt0000001|               1.0|                 5|\n",
      "|    max|tt9916880|              10.0|           2823319|\n",
      "+-------+---------+------------------+------------------+\n",
      "\n",
      "== Parsed Logical Plan ==\n",
      "Relation [tconst#478,averageRating#479,numVotes#480] csv\n",
      "\n",
      "== Analyzed Logical Plan ==\n",
      "tconst: string, averageRating: double, numVotes: int\n",
      "Relation [tconst#478,averageRating#479,numVotes#480] csv\n",
      "\n",
      "== Optimized Logical Plan ==\n",
      "Relation [tconst#478,averageRating#479,numVotes#480] csv\n",
      "\n",
      "== Physical Plan ==\n",
      "FileScan csv [tconst#478,averageRating#479,numVotes#480] Batched: false, DataFilters: [], Format: CSV, Location: InMemoryFileIndex(1 paths)[file:/Users/pashakramar/Desktop/BigData_IMDB/data/title.ratings.tsv.gz], PartitionFilters: [], PushedFilters: [], ReadSchema: struct<tconst:string,averageRating:double,numVotes:int>\n",
      "\n"
     ]
    },
    {
     "name": "stderr",
     "output_type": "stream",
     "text": [
      "                                                                                \r"
     ]
    }
   ],
   "source": [
    "# Title Ratings show\n",
    "num_columns = len(title_ratings_df.columns)\n",
    "num_rows = title_ratings_df.count()\n",
    "\n",
    "title_ratings_df.printSchema()\n",
    "\n",
    "print(\"\\nColumns - \", title_ratings_df.columns)\n",
    "\n",
    "print(\"\\n Count of columns -\", num_columns)\n",
    "\n",
    "print(\"\\nNumber of rows - \", num_rows)\n",
    "\n",
    "print(\"\\nDescribe:\")\n",
    "title_ratings_df.describe().show()\n",
    "title_ratings_df.explain(mode='extended')"
   ]
  },
  {
   "cell_type": "code",
   "execution_count": 5,
   "metadata": {},
   "outputs": [
    {
     "name": "stderr",
     "output_type": "stream",
     "text": [
      "23/12/05 00:59:51 WARN SparkStringUtils: Truncated the string representation of a plan since it was too large. This behavior can be adjusted by setting 'spark.sql.debug.maxToStringFields'.\n"
     ]
    },
    {
     "name": "stdout",
     "output_type": "stream",
     "text": [
      "root\n",
      " |-- tconst: string (nullable = true)\n",
      " |-- ordering: integer (nullable = true)\n",
      " |-- nconst: string (nullable = true)\n",
      " |-- category: string (nullable = true)\n",
      " |-- job: string (nullable = true)\n",
      " |-- characters: string (nullable = true)\n",
      "\n",
      "\n",
      "Columns -  ['tconst', 'ordering', 'nconst', 'category', 'job', 'characters']\n",
      "\n",
      " Count of columns - 6\n",
      "\n",
      "Number of rows -  59313435\n",
      "\n",
      "Describe:\n"
     ]
    },
    {
     "name": "stderr",
     "output_type": "stream",
     "text": [
      "[Stage 30:>                                                         (0 + 1) / 1]\r"
     ]
    },
    {
     "name": "stdout",
     "output_type": "stream",
     "text": [
      "+-------+---------+-----------------+---------+--------+------------------+-------------------+\n",
      "|summary|   tconst|         ordering|   nconst|category|               job|         characters|\n",
      "+-------+---------+-----------------+---------+--------+------------------+-------------------+\n",
      "|  count| 59313435|         59313435| 59313435|59313435|          59313435|           59313435|\n",
      "|   mean|     NULL|4.613686848519227|     NULL|    NULL|              NULL|               NULL|\n",
      "| stddev|     NULL|2.787261670917683|     NULL|    NULL|              NULL|               NULL|\n",
      "|    min|tt0000001|                1|nm0000001|   actor|\"A Box in Town\" by|[\"!CF\",\"CF\",\"Self\"]|\n",
      "|    max|tt9916880|               10|nm9993718|  writer|         écrit par|                 \\N|\n",
      "+-------+---------+-----------------+---------+--------+------------------+-------------------+\n",
      "\n",
      "== Parsed Logical Plan ==\n",
      "Relation [tconst#466,ordering#467,nconst#468,category#469,job#470,characters#471] csv\n",
      "\n",
      "== Analyzed Logical Plan ==\n",
      "tconst: string, ordering: int, nconst: string, category: string, job: string, characters: string\n",
      "Relation [tconst#466,ordering#467,nconst#468,category#469,job#470,characters#471] csv\n",
      "\n",
      "== Optimized Logical Plan ==\n",
      "Relation [tconst#466,ordering#467,nconst#468,category#469,job#470,characters#471] csv\n",
      "\n",
      "== Physical Plan ==\n",
      "FileScan csv [tconst#466,ordering#467,nconst#468,category#469,job#470,characters#471] Batched: false, DataFilters: [], Format: CSV, Location: InMemoryFileIndex(1 paths)[file:/Users/pashakramar/Desktop/BigData_IMDB/data/title.principals.tsv..., PartitionFilters: [], PushedFilters: [], ReadSchema: struct<tconst:string,ordering:int,nconst:string,category:string,job:string,characters:string>\n",
      "\n"
     ]
    },
    {
     "name": "stderr",
     "output_type": "stream",
     "text": [
      "                                                                                \r"
     ]
    }
   ],
   "source": [
    "# Principals show\n",
    "num_columns = len(title_principals_df.columns)\n",
    "num_rows = title_principals_df.count()\n",
    "\n",
    "title_principals_df.printSchema()\n",
    "\n",
    "print(\"\\nColumns - \", title_principals_df.columns)\n",
    "\n",
    "print(\"\\n Count of columns -\", num_columns)\n",
    "\n",
    "print(\"\\nNumber of rows - \", num_rows)\n",
    "\n",
    "print(\"\\nDescribe:\")\n",
    "title_principals_df.describe().show()\n",
    "title_principals_df.explain(mode='extended')"
   ]
  },
  {
   "cell_type": "code",
   "execution_count": 6,
   "metadata": {},
   "outputs": [
    {
     "name": "stderr",
     "output_type": "stream",
     "text": [
      "                                                                                \r"
     ]
    },
    {
     "name": "stdout",
     "output_type": "stream",
     "text": [
      "root\n",
      " |-- tconst: string (nullable = true)\n",
      " |-- parentTconst: string (nullable = true)\n",
      " |-- seasonNumber: integer (nullable = true)\n",
      " |-- episodeNumber: integer (nullable = true)\n",
      "\n",
      "\n",
      "Columns -  ['tconst', 'parentTconst', 'seasonNumber', 'episodeNumber']\n",
      "\n",
      " Count of columns - 4\n",
      "\n",
      "Number of rows -  7901188\n",
      "\n",
      "Describe:\n"
     ]
    },
    {
     "name": "stderr",
     "output_type": "stream",
     "text": [
      "[Stage 36:>                                                         (0 + 1) / 1]\r"
     ]
    },
    {
     "name": "stdout",
     "output_type": "stream",
     "text": [
      "+-------+---------+------------+------------------+-----------------+\n",
      "|summary|   tconst|parentTconst|      seasonNumber|    episodeNumber|\n",
      "+-------+---------+------------+------------------+-----------------+\n",
      "|  count|  7901188|     7901188|           6295324|          6295324|\n",
      "|   mean|     NULL|        NULL| 3.738206008141916|403.0755111254004|\n",
      "| stddev|     NULL|        NULL|24.042708175598683|  1301.8276790122|\n",
      "|    min|tt0041951|   tt0035599|                 1|                0|\n",
      "|    max|tt9916880|   tt9916678|              2021|            91334|\n",
      "+-------+---------+------------+------------------+-----------------+\n",
      "\n",
      "== Parsed Logical Plan ==\n",
      "Relation [tconst#458,parentTconst#459,seasonNumber#460,episodeNumber#461] csv\n",
      "\n",
      "== Analyzed Logical Plan ==\n",
      "tconst: string, parentTconst: string, seasonNumber: int, episodeNumber: int\n",
      "Relation [tconst#458,parentTconst#459,seasonNumber#460,episodeNumber#461] csv\n",
      "\n",
      "== Optimized Logical Plan ==\n",
      "Relation [tconst#458,parentTconst#459,seasonNumber#460,episodeNumber#461] csv\n",
      "\n",
      "== Physical Plan ==\n",
      "FileScan csv [tconst#458,parentTconst#459,seasonNumber#460,episodeNumber#461] Batched: false, DataFilters: [], Format: CSV, Location: InMemoryFileIndex(1 paths)[file:/Users/pashakramar/Desktop/BigData_IMDB/data/title.episode.tsv.gz], PartitionFilters: [], PushedFilters: [], ReadSchema: struct<tconst:string,parentTconst:string,seasonNumber:int,episodeNumber:int>\n",
      "\n"
     ]
    },
    {
     "name": "stderr",
     "output_type": "stream",
     "text": [
      "                                                                                \r"
     ]
    }
   ],
   "source": [
    "# Episode show\n",
    "num_columns = len(title_episode_df.columns)\n",
    "num_rows = title_episode_df.count()\n",
    "\n",
    "title_episode_df.printSchema()\n",
    "\n",
    "print(\"\\nColumns - \", title_episode_df.columns)\n",
    "\n",
    "print(\"\\n Count of columns -\", num_columns)\n",
    "\n",
    "print(\"\\nNumber of rows - \", num_rows)\n",
    "\n",
    "print(\"\\nDescribe:\")\n",
    "title_episode_df.describe().show()\n",
    "title_episode_df.explain(mode='extended')"
   ]
  },
  {
   "cell_type": "code",
   "execution_count": 7,
   "metadata": {},
   "outputs": [
    {
     "name": "stderr",
     "output_type": "stream",
     "text": [
      "                                                                                \r"
     ]
    },
    {
     "name": "stdout",
     "output_type": "stream",
     "text": [
      "root\n",
      " |-- tconst: string (nullable = true)\n",
      " |-- directors: string (nullable = true)\n",
      " |-- writers: string (nullable = true)\n",
      "\n",
      "\n",
      "Columns -  ['tconst', 'directors', 'writers']\n",
      "\n",
      " Count of columns - 3\n",
      "\n",
      "Number of rows -  10351957\n",
      "\n",
      "Describe:\n"
     ]
    },
    {
     "name": "stderr",
     "output_type": "stream",
     "text": [
      "[Stage 42:>                                                         (0 + 1) / 1]\r"
     ]
    },
    {
     "name": "stdout",
     "output_type": "stream",
     "text": [
      "+-------+---------+-------------------+-------------------+\n",
      "|summary|   tconst|          directors|            writers|\n",
      "+-------+---------+-------------------+-------------------+\n",
      "|  count| 10351957|           10351957|           10351957|\n",
      "|   mean|     NULL|               NULL|               NULL|\n",
      "| stddev|     NULL|               NULL|               NULL|\n",
      "|    min|tt0000001|                 \\N|                 \\N|\n",
      "|    max|tt9916880|nm9993709,nm9993708|nm9993713,nm3125335|\n",
      "+-------+---------+-------------------+-------------------+\n",
      "\n",
      "== Parsed Logical Plan ==\n",
      "Relation [tconst#452,directors#453,writers#454] csv\n",
      "\n",
      "== Analyzed Logical Plan ==\n",
      "tconst: string, directors: string, writers: string\n",
      "Relation [tconst#452,directors#453,writers#454] csv\n",
      "\n",
      "== Optimized Logical Plan ==\n",
      "Relation [tconst#452,directors#453,writers#454] csv\n",
      "\n",
      "== Physical Plan ==\n",
      "FileScan csv [tconst#452,directors#453,writers#454] Batched: false, DataFilters: [], Format: CSV, Location: InMemoryFileIndex(1 paths)[file:/Users/pashakramar/Desktop/BigData_IMDB/data/title.crew.tsv.gz], PartitionFilters: [], PushedFilters: [], ReadSchema: struct<tconst:string,directors:string,writers:string>\n",
      "\n"
     ]
    },
    {
     "name": "stderr",
     "output_type": "stream",
     "text": [
      "                                                                                \r"
     ]
    }
   ],
   "source": [
    "# Crew show\n",
    "num_columns = len(title_crew_df.columns)\n",
    "num_rows = title_crew_df.count()\n",
    "\n",
    "title_crew_df.printSchema()\n",
    "\n",
    "print(\"\\nColumns - \", title_crew_df.columns)\n",
    "\n",
    "print(\"\\n Count of columns -\", num_columns)\n",
    "\n",
    "print(\"\\nNumber of rows - \", num_rows)\n",
    "\n",
    "print(\"\\nDescribe:\")\n",
    "title_crew_df.describe().show()\n",
    "title_crew_df.explain(mode='extended')"
   ]
  },
  {
   "cell_type": "code",
   "execution_count": 8,
   "metadata": {},
   "outputs": [
    {
     "name": "stderr",
     "output_type": "stream",
     "text": [
      "                                                                                \r"
     ]
    },
    {
     "name": "stdout",
     "output_type": "stream",
     "text": [
      "root\n",
      " |-- tconst: string (nullable = true)\n",
      " |-- titleType: string (nullable = true)\n",
      " |-- primaryTitle: string (nullable = true)\n",
      " |-- originalTitle: string (nullable = true)\n",
      " |-- isAdult: integer (nullable = true)\n",
      " |-- startYear: string (nullable = true)\n",
      " |-- endYear: string (nullable = true)\n",
      " |-- runtimeMinutes: integer (nullable = true)\n",
      " |-- genres: string (nullable = true)\n",
      "\n",
      "\n",
      "Columns -  ['tconst', 'titleType', 'primaryTitle', 'originalTitle', 'isAdult', 'startYear', 'endYear', 'runtimeMinutes', 'genres']\n",
      "\n",
      " Count of columns - 9\n",
      "\n",
      "Number of rows -  10351957\n",
      "\n",
      "Describe:\n"
     ]
    },
    {
     "name": "stderr",
     "output_type": "stream",
     "text": [
      "[Stage 48:>                                                         (0 + 1) / 1]\r"
     ]
    },
    {
     "name": "stdout",
     "output_type": "stream",
     "text": [
      "+-------+---------+---------+--------------+-------------+--------------------+------------------+------------------+------------------+--------+\n",
      "|summary|   tconst|titleType|  primaryTitle|originalTitle|             isAdult|         startYear|           endYear|    runtimeMinutes|  genres|\n",
      "+-------+---------+---------+--------------+-------------+--------------------+------------------+------------------+------------------+--------+\n",
      "|  count| 10351957| 10351957|      10351957|     10351957|            10351956|          10351957|          10351957|           3113900|10351939|\n",
      "|   mean|     NULL|     NULL|           NaN|          NaN|0.034995415359184295|2005.4540555160538| 2006.454020793918|43.417214746780566|    NULL|\n",
      "| stddev|     NULL|     NULL|           NaN|          NaN|  2.5903709298061344| 20.12947392889537|16.394336427194403| 74.11959410113813|    NULL|\n",
      "|    min|tt0000001|    movie|        !Next?|       !Next?|                   0|              1874|              1906|                 0|  Action|\n",
      "|    max|tt9916880|videoGame|【Oshi No Ko】|þetta reddast|                2023|                \\N|                \\N|             54321|      \\N|\n",
      "+-------+---------+---------+--------------+-------------+--------------------+------------------+------------------+------------------+--------+\n",
      "\n",
      "== Parsed Logical Plan ==\n",
      "Relation [tconst#434,titleType#435,primaryTitle#436,originalTitle#437,isAdult#438,startYear#439,endYear#440,runtimeMinutes#441,genres#442] csv\n",
      "\n",
      "== Analyzed Logical Plan ==\n",
      "tconst: string, titleType: string, primaryTitle: string, originalTitle: string, isAdult: int, startYear: string, endYear: string, runtimeMinutes: int, genres: string\n",
      "Relation [tconst#434,titleType#435,primaryTitle#436,originalTitle#437,isAdult#438,startYear#439,endYear#440,runtimeMinutes#441,genres#442] csv\n",
      "\n",
      "== Optimized Logical Plan ==\n",
      "Relation [tconst#434,titleType#435,primaryTitle#436,originalTitle#437,isAdult#438,startYear#439,endYear#440,runtimeMinutes#441,genres#442] csv\n",
      "\n",
      "== Physical Plan ==\n",
      "FileScan csv [tconst#434,titleType#435,primaryTitle#436,originalTitle#437,isAdult#438,startYear#439,endYear#440,runtimeMinutes#441,genres#442] Batched: false, DataFilters: [], Format: CSV, Location: InMemoryFileIndex(1 paths)[file:/Users/pashakramar/Desktop/BigData_IMDB/data/title.basics.tsv.gz], PartitionFilters: [], PushedFilters: [], ReadSchema: struct<tconst:string,titleType:string,primaryTitle:string,originalTitle:string,isAdult:int,startY...\n",
      "\n"
     ]
    },
    {
     "name": "stderr",
     "output_type": "stream",
     "text": [
      "                                                                                \r"
     ]
    }
   ],
   "source": [
    "# Title Basics show\n",
    "num_columns = len(title_basics_df.columns)\n",
    "num_rows = title_basics_df.count()\n",
    "\n",
    "title_basics_df.printSchema()\n",
    "\n",
    "print(\"\\nColumns - \", title_basics_df.columns)\n",
    "\n",
    "print(\"\\n Count of columns -\", num_columns)\n",
    "\n",
    "print(\"\\nNumber of rows - \", num_rows)\n",
    "\n",
    "print(\"\\nDescribe:\")\n",
    "title_basics_df.describe().show()\n",
    "title_basics_df.explain(mode='extended')"
   ]
  },
  {
   "cell_type": "code",
   "execution_count": 9,
   "metadata": {},
   "outputs": [
    {
     "name": "stderr",
     "output_type": "stream",
     "text": [
      "                                                                                \r"
     ]
    },
    {
     "name": "stdout",
     "output_type": "stream",
     "text": [
      "root\n",
      " |-- titleId: string (nullable = true)\n",
      " |-- ordering: integer (nullable = true)\n",
      " |-- title: string (nullable = true)\n",
      " |-- region: string (nullable = true)\n",
      " |-- language: string (nullable = true)\n",
      " |-- types: string (nullable = true)\n",
      " |-- attributes: string (nullable = true)\n",
      " |-- isOriginalTitle: boolean (nullable = true)\n",
      "\n",
      "\n",
      "Columns -  ['titleId', 'ordering', 'title', 'region', 'language', 'types', 'attributes', 'isOriginalTitle']\n",
      "\n",
      " Count of columns - 8\n",
      "\n",
      "Number of rows -  37983582\n",
      "\n",
      "Describe:\n"
     ]
    },
    {
     "name": "stderr",
     "output_type": "stream",
     "text": [
      "[Stage 54:>                                                         (0 + 1) / 1]\r"
     ]
    },
    {
     "name": "stdout",
     "output_type": "stream",
     "text": [
      "+-------+---------+-----------------+--------+--------+--------+--------+------------------+\n",
      "|summary|  titleId|         ordering|   title|  region|language|   types|        attributes|\n",
      "+-------+---------+-----------------+--------+--------+--------+--------+------------------+\n",
      "|  count| 37983582|         37983582|37983582|37983579|37983579|37983579|          37983579|\n",
      "|   mean|     NULL|4.168659027471396|     NaN|    NULL|    NULL|    NULL|              NULL|\n",
      "| stddev|     NULL|3.996599797010896|     NaN|    NULL|    NULL|    NULL|              NULL|\n",
      "|    min|tt0000001|                1|   !Huff|      AD|      \\N|      \\N|16mm release title|\n",
      "|    max|tt9916856|              250|🧠+🧘=❤️|      \\N|      zu| working|     weekend title|\n",
      "+-------+---------+-----------------+--------+--------+--------+--------+------------------+\n",
      "\n",
      "== Parsed Logical Plan ==\n",
      "Relation [titleId#418,ordering#419,title#420,region#421,language#422,types#423,attributes#424,isOriginalTitle#425] csv\n",
      "\n",
      "== Analyzed Logical Plan ==\n",
      "titleId: string, ordering: int, title: string, region: string, language: string, types: string, attributes: string, isOriginalTitle: boolean\n",
      "Relation [titleId#418,ordering#419,title#420,region#421,language#422,types#423,attributes#424,isOriginalTitle#425] csv\n",
      "\n",
      "== Optimized Logical Plan ==\n",
      "Relation [titleId#418,ordering#419,title#420,region#421,language#422,types#423,attributes#424,isOriginalTitle#425] csv\n",
      "\n",
      "== Physical Plan ==\n",
      "FileScan csv [titleId#418,ordering#419,title#420,region#421,language#422,types#423,attributes#424,isOriginalTitle#425] Batched: false, DataFilters: [], Format: CSV, Location: InMemoryFileIndex(1 paths)[file:/Users/pashakramar/Desktop/BigData_IMDB/data/title.akas.tsv.gz], PartitionFilters: [], PushedFilters: [], ReadSchema: struct<titleId:string,ordering:int,title:string,region:string,language:string,types:string,attrib...\n",
      "\n"
     ]
    },
    {
     "name": "stderr",
     "output_type": "stream",
     "text": [
      "                                                                                \r"
     ]
    }
   ],
   "source": [
    "# Title Akas show\n",
    "num_columns = len(title_akas_df.columns)\n",
    "num_rows = title_akas_df.count()\n",
    "\n",
    "title_akas_df.printSchema()\n",
    "\n",
    "print(\"\\nColumns - \", title_akas_df.columns)\n",
    "\n",
    "print(\"\\n Count of columns -\", num_columns)\n",
    "\n",
    "print(\"\\nNumber of rows - \", num_rows)\n",
    "\n",
    "print(\"\\nDescribe:\")\n",
    "title_akas_df.describe().show()\n",
    "title_akas_df.explain(mode='extended')"
   ]
  },
  {
   "cell_type": "code",
   "execution_count": null,
   "metadata": {},
   "outputs": [],
   "source": [
    "#Business questions -----\n",
    "#1 - Скільки фільмів в кожному жанрі мають найбільшу кількість ролей?\n",
    "#2 - Фільму у якому було задіяно найбільше ролей\n",
    "#3 - Який макс. рейтинг по кожному жанру\n",
    "#4 - Які топ 5 фільмів мають найвищий середній рейтинг, але при цьому отримали більше 500 голосів?\n",
    "#5 - Які режисери мають найвищий середній рейтинг та зняли більше 10 фільмів?\n",
    "#6 - Які фільми отримали найменше голосів та який в них рейтинг?\n",
    "#7 - Яка популярність телесеріалів за жанрами та регіонами, використовуючи середній рейтинг та кількість телесеріалів у кожній категорії.\n"
   ]
  },
  {
   "cell_type": "code",
   "execution_count": 15,
   "metadata": {},
   "outputs": [
    {
     "name": "stderr",
     "output_type": "stream",
     "text": [
      "[Stage 93:>                                                         (0 + 1) / 1]\r"
     ]
    },
    {
     "name": "stdout",
     "output_type": "stream",
     "text": [
      "+-----------+-----------+\n",
      "|genre      |movie_count|\n",
      "+-----------+-----------+\n",
      "|Drama      |2941672    |\n",
      "|Comedy     |2062912    |\n",
      "|Talk-Show  |1268874    |\n",
      "|Short      |1131255    |\n",
      "|Romance    |979220     |\n",
      "|Documentary|976771     |\n",
      "|News       |908714     |\n",
      "|Family     |765485     |\n",
      "|Reality-TV |580085     |\n",
      "|Animation  |520423     |\n",
      "|\\N         |460965     |\n",
      "|Crime      |422487     |\n",
      "|Action     |422288     |\n",
      "|Adventure  |395927     |\n",
      "|Music      |394116     |\n",
      "|Game-Show  |371459     |\n",
      "|Adult      |323732     |\n",
      "|Sport      |246519     |\n",
      "|Fantasy    |208465     |\n",
      "|Mystery    |208288     |\n",
      "+-----------+-----------+\n",
      "only showing top 20 rows\n",
      "\n"
     ]
    },
    {
     "name": "stderr",
     "output_type": "stream",
     "text": [
      "                                                                                \r"
     ]
    }
   ],
   "source": [
    "#1 - Яка загальна кількість фільмів для кожного жанру?\n",
    "from pyspark.sql import SparkSession\n",
    "from pyspark.sql.functions import col, explode, split, count, max as spark_max\n",
    "\n",
    "spark = SparkSession.builder.appName(\"RoleCount\").getOrCreate()\n",
    "title_basics_df = spark.read.option(\"header\", \"true\").csv(\"./data/title.basics.tsv.gz\", sep=\"\\t\")\n",
    "title_principals_df = spark.read.option(\"header\", \"true\").csv(\"./data/title.principals.tsv.gz\", sep=\"\\t\")\n",
    "\n",
    "title_basics_df = title_basics_df.withColumn(\"genres\", split(col(\"genres\"), \",\"))\n",
    "\n",
    "movies_per_genre = title_basics_df.select(\"tconst\", explode(\"genres\").alias(\"genre\")) \\\n",
    "                                   .groupBy(\"genre\") \\\n",
    "                                   .agg(count(\"tconst\").alias(\"movie_count\")) \\\n",
    "                                   .orderBy(\"movie_count\", ascending=False)\n",
    "\n",
    "movies_per_genre.show(truncate=False)"
   ]
  },
  {
   "cell_type": "code",
   "execution_count": 33,
   "metadata": {},
   "outputs": [
    {
     "name": "stderr",
     "output_type": "stream",
     "text": [
      "23/12/05 02:09:20 WARN RowBasedKeyValueBatch: Calling spill() on RowBasedKeyValueBatch. Will not spill but return 0.\n",
      "23/12/05 02:09:20 WARN RowBasedKeyValueBatch: Calling spill() on RowBasedKeyValueBatch. Will not spill but return 0.\n",
      "23/12/05 02:09:23 WARN RowBasedKeyValueBatch: Calling spill() on RowBasedKeyValueBatch. Will not spill but return 0.\n",
      "23/12/05 02:09:23 WARN RowBasedKeyValueBatch: Calling spill() on RowBasedKeyValueBatch. Will not spill but return 0.\n",
      "23/12/05 02:09:25 WARN RowBasedKeyValueBatch: Calling spill() on RowBasedKeyValueBatch. Will not spill but return 0.\n",
      "23/12/05 02:09:25 WARN RowBasedKeyValueBatch: Calling spill() on RowBasedKeyValueBatch. Will not spill but return 0.\n",
      "23/12/05 02:09:29 WARN RowBasedKeyValueBatch: Calling spill() on RowBasedKeyValueBatch. Will not spill but return 0.\n",
      "23/12/05 02:09:29 WARN RowBasedKeyValueBatch: Calling spill() on RowBasedKeyValueBatch. Will not spill but return 0.\n",
      "23/12/05 02:09:31 WARN RowBasedKeyValueBatch: Calling spill() on RowBasedKeyValueBatch. Will not spill but return 0.\n",
      "23/12/05 02:09:31 WARN RowBasedKeyValueBatch: Calling spill() on RowBasedKeyValueBatch. Will not spill but return 0.\n",
      "23/12/05 02:09:34 WARN RowBasedKeyValueBatch: Calling spill() on RowBasedKeyValueBatch. Will not spill but return 0.\n",
      "23/12/05 02:09:34 WARN RowBasedKeyValueBatch: Calling spill() on RowBasedKeyValueBatch. Will not spill but return 0.\n",
      "23/12/05 02:09:37 WARN RowBasedKeyValueBatch: Calling spill() on RowBasedKeyValueBatch. Will not spill but return 0.\n",
      "23/12/05 02:09:37 WARN RowBasedKeyValueBatch: Calling spill() on RowBasedKeyValueBatch. Will not spill but return 0.\n",
      "23/12/05 02:09:40 WARN RowBasedKeyValueBatch: Calling spill() on RowBasedKeyValueBatch. Will not spill but return 0.\n",
      "23/12/05 02:09:40 WARN RowBasedKeyValueBatch: Calling spill() on RowBasedKeyValueBatch. Will not spill but return 0.\n",
      "23/12/05 02:09:43 WARN RowBasedKeyValueBatch: Calling spill() on RowBasedKeyValueBatch. Will not spill but return 0.\n",
      "23/12/05 02:09:43 WARN RowBasedKeyValueBatch: Calling spill() on RowBasedKeyValueBatch. Will not spill but return 0.\n",
      "23/12/05 02:09:46 WARN RowBasedKeyValueBatch: Calling spill() on RowBasedKeyValueBatch. Will not spill but return 0.\n",
      "23/12/05 02:09:46 WARN RowBasedKeyValueBatch: Calling spill() on RowBasedKeyValueBatch. Will not spill but return 0.\n",
      "23/12/05 02:09:48 WARN RowBasedKeyValueBatch: Calling spill() on RowBasedKeyValueBatch. Will not spill but return 0.\n",
      "23/12/05 02:09:48 WARN RowBasedKeyValueBatch: Calling spill() on RowBasedKeyValueBatch. Will not spill but return 0.\n",
      "23/12/05 02:09:52 WARN RowBasedKeyValueBatch: Calling spill() on RowBasedKeyValueBatch. Will not spill but return 0.\n",
      "23/12/05 02:09:52 WARN RowBasedKeyValueBatch: Calling spill() on RowBasedKeyValueBatch. Will not spill but return 0.\n",
      "23/12/05 02:09:54 WARN RowBasedKeyValueBatch: Calling spill() on RowBasedKeyValueBatch. Will not spill but return 0.\n",
      "23/12/05 02:09:54 WARN RowBasedKeyValueBatch: Calling spill() on RowBasedKeyValueBatch. Will not spill but return 0.\n",
      "23/12/05 02:09:58 WARN RowBasedKeyValueBatch: Calling spill() on RowBasedKeyValueBatch. Will not spill but return 0.\n",
      "23/12/05 02:09:58 WARN RowBasedKeyValueBatch: Calling spill() on RowBasedKeyValueBatch. Will not spill but return 0.\n",
      "23/12/05 02:10:00 WARN RowBasedKeyValueBatch: Calling spill() on RowBasedKeyValueBatch. Will not spill but return 0.\n",
      "23/12/05 02:10:00 WARN RowBasedKeyValueBatch: Calling spill() on RowBasedKeyValueBatch. Will not spill but return 0.\n",
      "23/12/05 02:10:03 WARN RowBasedKeyValueBatch: Calling spill() on RowBasedKeyValueBatch. Will not spill but return 0.\n",
      "23/12/05 02:10:03 WARN RowBasedKeyValueBatch: Calling spill() on RowBasedKeyValueBatch. Will not spill but return 0.\n",
      "23/12/05 02:11:20 WARN RowBasedKeyValueBatch: Calling spill() on RowBasedKeyValueBatch. Will not spill but return 0.\n",
      "23/12/05 02:11:20 WARN RowBasedKeyValueBatch: Calling spill() on RowBasedKeyValueBatch. Will not spill but return 0.\n",
      "23/12/05 02:11:23 WARN RowBasedKeyValueBatch: Calling spill() on RowBasedKeyValueBatch. Will not spill but return 0.\n",
      "23/12/05 02:11:23 WARN RowBasedKeyValueBatch: Calling spill() on RowBasedKeyValueBatch. Will not spill but return 0.\n",
      "23/12/05 02:11:26 WARN RowBasedKeyValueBatch: Calling spill() on RowBasedKeyValueBatch. Will not spill but return 0.\n",
      "23/12/05 02:11:26 WARN RowBasedKeyValueBatch: Calling spill() on RowBasedKeyValueBatch. Will not spill but return 0.\n",
      "23/12/05 02:11:29 WARN RowBasedKeyValueBatch: Calling spill() on RowBasedKeyValueBatch. Will not spill but return 0.\n",
      "23/12/05 02:11:29 WARN RowBasedKeyValueBatch: Calling spill() on RowBasedKeyValueBatch. Will not spill but return 0.\n",
      "23/12/05 02:11:31 WARN RowBasedKeyValueBatch: Calling spill() on RowBasedKeyValueBatch. Will not spill but return 0.\n",
      "23/12/05 02:11:31 WARN RowBasedKeyValueBatch: Calling spill() on RowBasedKeyValueBatch. Will not spill but return 0.\n",
      "23/12/05 02:11:35 WARN RowBasedKeyValueBatch: Calling spill() on RowBasedKeyValueBatch. Will not spill but return 0.\n",
      "23/12/05 02:11:35 WARN RowBasedKeyValueBatch: Calling spill() on RowBasedKeyValueBatch. Will not spill but return 0.\n",
      "23/12/05 02:11:37 WARN RowBasedKeyValueBatch: Calling spill() on RowBasedKeyValueBatch. Will not spill but return 0.\n",
      "23/12/05 02:11:37 WARN RowBasedKeyValueBatch: Calling spill() on RowBasedKeyValueBatch. Will not spill but return 0.\n",
      "23/12/05 02:11:41 WARN RowBasedKeyValueBatch: Calling spill() on RowBasedKeyValueBatch. Will not spill but return 0.\n",
      "23/12/05 02:11:41 WARN RowBasedKeyValueBatch: Calling spill() on RowBasedKeyValueBatch. Will not spill but return 0.\n",
      "23/12/05 02:11:43 WARN RowBasedKeyValueBatch: Calling spill() on RowBasedKeyValueBatch. Will not spill but return 0.\n",
      "23/12/05 02:11:43 WARN RowBasedKeyValueBatch: Calling spill() on RowBasedKeyValueBatch. Will not spill but return 0.\n",
      "23/12/05 02:11:46 WARN RowBasedKeyValueBatch: Calling spill() on RowBasedKeyValueBatch. Will not spill but return 0.\n",
      "23/12/05 02:11:46 WARN RowBasedKeyValueBatch: Calling spill() on RowBasedKeyValueBatch. Will not spill but return 0.\n",
      "23/12/05 02:11:49 WARN RowBasedKeyValueBatch: Calling spill() on RowBasedKeyValueBatch. Will not spill but return 0.\n",
      "23/12/05 02:11:49 WARN RowBasedKeyValueBatch: Calling spill() on RowBasedKeyValueBatch. Will not spill but return 0.\n",
      "23/12/05 02:11:52 WARN RowBasedKeyValueBatch: Calling spill() on RowBasedKeyValueBatch. Will not spill but return 0.\n",
      "23/12/05 02:11:52 WARN RowBasedKeyValueBatch: Calling spill() on RowBasedKeyValueBatch. Will not spill but return 0.\n",
      "23/12/05 02:11:55 WARN RowBasedKeyValueBatch: Calling spill() on RowBasedKeyValueBatch. Will not spill but return 0.\n",
      "23/12/05 02:11:55 WARN RowBasedKeyValueBatch: Calling spill() on RowBasedKeyValueBatch. Will not spill but return 0.\n",
      "23/12/05 02:11:58 WARN RowBasedKeyValueBatch: Calling spill() on RowBasedKeyValueBatch. Will not spill but return 0.\n",
      "23/12/05 02:11:58 WARN RowBasedKeyValueBatch: Calling spill() on RowBasedKeyValueBatch. Will not spill but return 0.\n",
      "23/12/05 02:12:00 WARN RowBasedKeyValueBatch: Calling spill() on RowBasedKeyValueBatch. Will not spill but return 0.\n",
      "23/12/05 02:12:00 WARN RowBasedKeyValueBatch: Calling spill() on RowBasedKeyValueBatch. Will not spill but return 0.\n",
      "23/12/05 02:12:04 WARN RowBasedKeyValueBatch: Calling spill() on RowBasedKeyValueBatch. Will not spill but return 0.\n",
      "23/12/05 02:12:04 WARN RowBasedKeyValueBatch: Calling spill() on RowBasedKeyValueBatch. Will not spill but return 0.\n",
      "[Stage 189:==================================================>      (8 + 1) / 9]\r"
     ]
    },
    {
     "name": "stdout",
     "output_type": "stream",
     "text": [
      "+----------+------------------------+---------------------------+--------------+\n",
      "|tconst    |genres                  |primaryTitle               |max_role_count|\n",
      "+----------+------------------------+---------------------------+--------------+\n",
      "|tt7066416 |Comedy                  |High Land Parking          |63            |\n",
      "|tt0423652 |Crime,Mystery,Reality-TV|The First 48               |57            |\n",
      "|tt14923012|News,Talk-Show          |The Media Show             |50            |\n",
      "|tt21036670|Reality-TV              |Coastguard Dutch Caribbean |50            |\n",
      "|tt0441059 |Adventure,Comedy,Fantasy|Kaamelott                  |48            |\n",
      "|tt6225166 |Crime,Reality-TV        |Live PD                    |47            |\n",
      "|tt0139803 |Music                   |Top of the Pops            |46            |\n",
      "|tt15452764|News,Talk-Show          |Valg 2021                  |46            |\n",
      "|tt6500140 |News,Talk-Show          |Heads Up                   |46            |\n",
      "|tt10098498|Documentary             |The UnXplained             |46            |\n",
      "|tt6914160 |Crime                   |Live PD: Police Patrol     |46            |\n",
      "|tt21274162|Adventure,Comedy        |Battle Logo Mayhem         |46            |\n",
      "|tt8668788 |News,Talk-Show          |Hardgrave                  |46            |\n",
      "|tt21281240|Adventure,Comedy        |Team Names                 |45            |\n",
      "|tt21281280|Adventure,Comedy        |Rejoining Time!            |45            |\n",
      "|tt21281252|Adventure,Comedy        |Black Like the Blackness   |45            |\n",
      "|tt21281288|Adventure,Comedy        |Are You Afraid of the Dark?|45            |\n",
      "|tt21281270|Adventure,Comedy        |Bowling Time               |45            |\n",
      "|tt21281256|Adventure,Comedy        |France 4 Madness           |45            |\n",
      "|tt21281274|Adventure,Comedy        |Mix Up and Jumpy           |45            |\n",
      "+----------+------------------------+---------------------------+--------------+\n",
      "only showing top 20 rows\n",
      "\n"
     ]
    },
    {
     "name": "stderr",
     "output_type": "stream",
     "text": [
      "                                                                                \r"
     ]
    }
   ],
   "source": [
    "#2 - Фільму у якому було задіяно найбільше ролей\n",
    "from pyspark.sql import SparkSession\n",
    "from pyspark.sql.functions import col, explode, split, count, max as spark_max\n",
    "\n",
    "\n",
    "spark = SparkSession.builder.appName(\"MostRoles\").getOrCreate()\n",
    "\n",
    "\n",
    "title_principals_df = spark.read.option(\"header\", \"true\").csv(\"./data/title.principals.tsv.gz\", sep=\"\\t\")\n",
    "title_basics_df = spark.read.option(\"header\", \"true\").csv(\"./data/title.basics.tsv.gz\", sep=\"\\t\")\n",
    "title_principals_df = title_principals_df.withColumn(\"characters\", split(col(\"characters\"), \",\")) \\\n",
    "                                         .withColumn(\"character\", explode(col(\"characters\")))\n",
    "\n",
    "merged_df = title_principals_df.join(title_basics_df, on=\"tconst\")\n",
    "roles_per_film = merged_df.groupBy(\"tconst\", \"genres\", \"primaryTitle\").agg(count(\"tconst\").alias(\"role_count\"))\\\n",
    "    .groupBy(\"tconst\", \"genres\", \"primaryTitle\").agg(spark_max(\"role_count\").alias(\"max_role_count\")).orderBy(\"max_role_count\", ascending=False)\n",
    "\n",
    "roles_per_film.show(truncate=False)"
   ]
  },
  {
   "cell_type": "code",
   "execution_count": 26,
   "metadata": {},
   "outputs": [
    {
     "name": "stderr",
     "output_type": "stream",
     "text": [
      "23/12/05 01:57:26 WARN SparkSession: Using an existing Spark session; only runtime SQL configurations will take effect.\n",
      "[Stage 153:>                                                        (0 + 1) / 1]\r"
     ]
    },
    {
     "name": "stdout",
     "output_type": "stream",
     "text": [
      "+-----------+---------+\n",
      "|      genre|maxRating|\n",
      "+-----------+---------+\n",
      "|     Action|      9.9|\n",
      "|      Adult|      9.9|\n",
      "|  Adventure|      9.9|\n",
      "|  Animation|      9.9|\n",
      "|  Biography|      9.9|\n",
      "|     Comedy|      9.9|\n",
      "|      Crime|      9.9|\n",
      "|Documentary|      9.9|\n",
      "|      Drama|      9.9|\n",
      "|     Family|      9.9|\n",
      "|    Fantasy|      9.9|\n",
      "|  Film-Noir|      8.4|\n",
      "|  Game-Show|      9.9|\n",
      "|    History|      9.9|\n",
      "|     Horror|      9.9|\n",
      "|      Music|      9.9|\n",
      "|    Musical|      9.9|\n",
      "|    Mystery|      9.9|\n",
      "|       News|      9.9|\n",
      "| Reality-TV|      9.9|\n",
      "+-----------+---------+\n",
      "only showing top 20 rows\n",
      "\n"
     ]
    },
    {
     "name": "stderr",
     "output_type": "stream",
     "text": [
      "                                                                                \r"
     ]
    }
   ],
   "source": [
    "#3 - Який макс. рейтинг по кожному жанру\n",
    "\n",
    "spark = SparkSession.builder.appName(\"max_ratings_per_genre\").getOrCreate()\n",
    "\n",
    "title_df = spark.read.option(\"header\", \"true\").csv(\"./data/title.basics.tsv.gz\", sep=\"\\t\")\n",
    "ratings_df = spark.read.option(\"header\", \"true\").csv(\"./data/title.ratings.tsv.gz\", sep=\"\\t\")\n",
    "\n",
    "joined_df = title_df.join(ratings_df, [\"tconst\"])\n",
    "joined_df = joined_df.withColumn(\"genres_array\", split(col(\"genres\"), \",\"))\n",
    "genres_df = joined_df.select(\"tconst\", \"averageRating\", explode(\"genres_array\").alias(\"genre\"))\n",
    "max_ratings_per_genre = genres_df.groupBy(\"genre\").agg(max(col(\"averageRating\")).alias(\"maxRating\"))\n",
    "\n",
    "max_ratings_per_genre.show()"
   ]
  },
  {
   "cell_type": "code",
   "execution_count": 29,
   "metadata": {},
   "outputs": [
    {
     "name": "stderr",
     "output_type": "stream",
     "text": [
      "[Stage 166:>                                                        (0 + 1) / 1]\r"
     ]
    },
    {
     "name": "stdout",
     "output_type": "stream",
     "text": [
      "+-------------------+-------------+--------+\n",
      "|       primaryTitle|averageRating|numVotes|\n",
      "+-------------------+-------------+--------+\n",
      "|         Ozymandias|         10.0|  208858|\n",
      "|           Prologue|         10.0|     615|\n",
      "|              Beega|         10.0|     843|\n",
      "|      Episode #1.40|         10.0|     522|\n",
      "|End of The Prologue|          9.9|   15109|\n",
      "+-------------------+-------------+--------+\n",
      "\n"
     ]
    },
    {
     "name": "stderr",
     "output_type": "stream",
     "text": [
      "                                                                                \r"
     ]
    }
   ],
   "source": [
    "#4 - Які топ 5 фільмів мають найвищий середній рейтинг, але при цьому отримали більше 500 голосів?\n",
    "\n",
    "spark = SparkSession.builder.appName(\"Top5Films\").getOrCreate()\n",
    "\n",
    "filtered_ratings = title_ratings_df.filter(col(\"numVotes\") > 500)\n",
    "joined_df = filtered_ratings.join(title_basics_df, \"tconst\")\n",
    "top_5_films_rating = joined_df.orderBy(col(\"averageRating\").desc()).limit(5)\n",
    "\n",
    "top_5_films_rating.select(\"primaryTitle\", \"averageRating\", \"numVotes\").show()"
   ]
  },
  {
   "cell_type": "code",
   "execution_count": 35,
   "metadata": {},
   "outputs": [
    {
     "name": "stderr",
     "output_type": "stream",
     "text": [
      "[Stage 200:>                                                        (0 + 1) / 1]\r"
     ]
    },
    {
     "name": "stdout",
     "output_type": "stream",
     "text": [
      "+--------------------+---------+---------+\n",
      "|           directors|avgRating|filmCount|\n",
      "+--------------------+---------+---------+\n",
      "|nm15185869,nm1667...|     9.99|       35|\n",
      "|           nm9697887|     9.99|       25|\n",
      "|           nm1475126|     9.97|      497|\n",
      "|nm5870567,nm58887...|     9.96|       27|\n",
      "|          nm11066250|     9.94|       17|\n",
      "|           nm8331592|     9.92|      155|\n",
      "|           nm2448669|     9.91|       16|\n",
      "|           nm3466713|     9.90|       26|\n",
      "|           nm2320575|     9.88|       13|\n",
      "|           nm1425932|     9.84|       27|\n",
      "|           nm1341249|     9.83|       21|\n",
      "|           nm3148014|     9.83|       46|\n",
      "|           nm3795227|     9.83|       13|\n",
      "| nm9343671,nm2375975|     9.83|       47|\n",
      "|          nm13078903|     9.78|       13|\n",
      "|          nm13389794|     9.78|       11|\n",
      "|          nm11256194|     9.76|       48|\n",
      "|           nm3116146|     9.76|       36|\n",
      "|           nm4779082|     9.76|      106|\n",
      "|          nm11521823|     9.75|       42|\n",
      "+--------------------+---------+---------+\n",
      "only showing top 20 rows\n",
      "\n"
     ]
    },
    {
     "name": "stderr",
     "output_type": "stream",
     "text": [
      "                                                                                \r"
     ]
    }
   ],
   "source": [
    "#5 - Які режисери мають найвищий середній рейтинг та зняли більше 10 фільмів?\n",
    "spark = SparkSession.builder.appName(\"DirectorsRating\").getOrCreate()\n",
    "ratings_df = title_ratings_df.join(title_crew_df, \"tconst\")\n",
    "movies_per_director = ratings_df.groupBy(\"directors\").agg(count(\"tconst\").alias(\"filmCount\"))\n",
    "directors_with_more_than_10_films = movies_per_director.filter(col(\"filmCount\") > 10)\n",
    "movies_with_ratings = ratings_df.join(directors_with_more_than_10_films, \"directors\")\n",
    "director_stats = movies_with_ratings.groupBy(\"directors\").agg(\n",
    "    avg(\"averageRating\").alias(\"avgRating\"),\n",
    "    count(\"tconst\").alias(\"filmCount\")\n",
    ")\n",
    "director_stats_df = director_stats.withColumn(\"avgRating\", format_number(\"avgRating\", 2))\n",
    "sorted_director_stats_df = director_stats_df.orderBy(col(\"avgRating\").desc())\n",
    "sorted_director_stats_df.show()"
   ]
  },
  {
   "cell_type": "code",
   "execution_count": 38,
   "metadata": {},
   "outputs": [
    {
     "name": "stderr",
     "output_type": "stream",
     "text": [
      "23/12/05 02:19:08 WARN SparkSession: Using an existing Spark session; only runtime SQL configurations will take effect.\n",
      "[Stage 220:>                                                        (0 + 1) / 1]\r"
     ]
    },
    {
     "name": "stdout",
     "output_type": "stream",
     "text": [
      "+-----------------------------------+--------+-------------+\n",
      "|originalTitle                      |numVotes|averageRating|\n",
      "+-----------------------------------+--------+-------------+\n",
      "|Neutralidad                        |5       |6.0          |\n",
      "|Figuras de la Pasión               |5       |6.8          |\n",
      "|Váltás                             |5       |7.8          |\n",
      "|Zonnetje                           |5       |4.6          |\n",
      "|Pälsen                             |5       |5.6          |\n",
      "|La defensa de Madrid               |5       |6.8          |\n",
      "|Hoje, Estreia                      |5       |6.2          |\n",
      "|División heroica                   |5       |6.0          |\n",
      "|It All Goes to Show                |5       |5.8          |\n",
      "|Ein drittes Reich aus seinem Abfall|5       |6.0          |\n",
      "|Leyenda                            |5       |4.2          |\n",
      "|Río Negro                          |5       |6.2          |\n",
      "|Kahden tanssin välillä             |5       |3.8          |\n",
      "|Bonecos de Estremoz                |5       |9.0          |\n",
      "|Muz, ktery rozdaval smich          |5       |6.4          |\n",
      "|Blut in der Spur                   |5       |8.8          |\n",
      "|Luftburen                          |5       |6.2          |\n",
      "|Cuentos para una escapada          |5       |3.6          |\n",
      "|Los muertos sí salen               |5       |4.6          |\n",
      "|O Meu Nome É...                    |5       |5.4          |\n",
      "+-----------------------------------+--------+-------------+\n",
      "only showing top 20 rows\n",
      "\n"
     ]
    },
    {
     "name": "stderr",
     "output_type": "stream",
     "text": [
      "                                                                                \r"
     ]
    }
   ],
   "source": [
    "#6 - Які фільми отримали найменше голосів та який в них рейтинг?\n",
    "spark = SparkSession.builder.appName(\"LessVotedFilms\").getOrCreate()\n",
    "\n",
    "title_ratings = spark.read.option(\"delimiter\", \"\\t\").csv(\"./data/title.ratings.tsv.gz\", header=True, inferSchema=True)\n",
    "title_basics = spark.read.option(\"delimiter\", \"\\t\").csv(\"./data/title.basics.tsv.gz\", header=True, inferSchema=True)\n",
    "\n",
    "merged_data = title_ratings.join(title_basics, title_ratings[\"tconst\"] == title_basics[\"tconst\"])\n",
    "less_voted_movies = merged_data.sort(asc(\"numVotes\")).select(\"originalTitle\", \"numVotes\", \"averageRating\")\n",
    "\n",
    "less_voted_movies.show(truncate=False)"
   ]
  },
  {
   "cell_type": "code",
   "execution_count": 54,
   "metadata": {},
   "outputs": [
    {
     "name": "stderr",
     "output_type": "stream",
     "text": [
      "23/12/05 02:43:03 WARN RowBasedKeyValueBatch: Calling spill() on RowBasedKeyValueBatch. Will not spill but return 0.\n",
      "23/12/05 02:43:03 WARN RowBasedKeyValueBatch: Calling spill() on RowBasedKeyValueBatch. Will not spill but return 0.\n",
      "23/12/05 02:43:04 WARN RowBasedKeyValueBatch: Calling spill() on RowBasedKeyValueBatch. Will not spill but return 0.\n",
      "23/12/05 02:43:06 WARN RowBasedKeyValueBatch: Calling spill() on RowBasedKeyValueBatch. Will not spill but return 0.\n",
      "23/12/05 02:43:06 WARN RowBasedKeyValueBatch: Calling spill() on RowBasedKeyValueBatch. Will not spill but return 0.\n",
      "23/12/05 02:43:07 WARN RowBasedKeyValueBatch: Calling spill() on RowBasedKeyValueBatch. Will not spill but return 0.\n",
      "23/12/05 02:43:09 WARN RowBasedKeyValueBatch: Calling spill() on RowBasedKeyValueBatch. Will not spill but return 0.\n",
      "23/12/05 02:43:09 WARN RowBasedKeyValueBatch: Calling spill() on RowBasedKeyValueBatch. Will not spill but return 0.\n",
      "23/12/05 02:43:10 WARN RowBasedKeyValueBatch: Calling spill() on RowBasedKeyValueBatch. Will not spill but return 0.\n",
      "23/12/05 02:43:12 WARN RowBasedKeyValueBatch: Calling spill() on RowBasedKeyValueBatch. Will not spill but return 0.\n",
      "23/12/05 02:43:12 WARN RowBasedKeyValueBatch: Calling spill() on RowBasedKeyValueBatch. Will not spill but return 0.\n",
      "23/12/05 02:43:13 WARN RowBasedKeyValueBatch: Calling spill() on RowBasedKeyValueBatch. Will not spill but return 0.\n",
      "23/12/05 02:43:15 WARN RowBasedKeyValueBatch: Calling spill() on RowBasedKeyValueBatch. Will not spill but return 0.\n",
      "23/12/05 02:43:15 WARN RowBasedKeyValueBatch: Calling spill() on RowBasedKeyValueBatch. Will not spill but return 0.\n",
      "23/12/05 02:43:16 WARN RowBasedKeyValueBatch: Calling spill() on RowBasedKeyValueBatch. Will not spill but return 0.\n"
     ]
    },
    {
     "name": "stdout",
     "output_type": "stream",
     "text": [
      "+--------------------+------+---------+---------+\n",
      "|              genres|region|avgRating|numSeries|\n",
      "+--------------------+------+---------+---------+\n",
      "|              Family|    JP|     6.89|       55|\n",
      "|     Game-Show,Music|    \\N|     5.58|      120|\n",
      "|         Crime,Drama|    IT|     7.10|      213|\n",
      "|   Adventure,History|    BG|     7.75|        2|\n",
      "|             Western|  SUHH|     7.69|       23|\n",
      "|        Comedy,Music|    FI|     6.21|       15|\n",
      "|       Drama,Romance|    FI|     6.69|       54|\n",
      "|Action,Adventure,...|    IT|     7.01|       71|\n",
      "|Adventure,Comedy,...|    IN|     6.78|       20|\n",
      "|             Mystery|    FR|     6.86|       15|\n",
      "|Drama,Mystery,Sci-Fi|    PL|     7.13|       38|\n",
      "|Drama,Family,Thri...|    ES|     7.70|        1|\n",
      "|               Drama|    TR|     6.05|      602|\n",
      "|    Animation,Family|    BR|     6.95|      129|\n",
      "|Drama,Fantasy,Sci-Fi|    PT|     6.90|        2|\n",
      "|Action,Adventure,...|    HR|     6.77|       13|\n",
      "|              Comedy|    TW|     7.28|      158|\n",
      "|Drama,Horror,Mystery|    PT|     7.06|       10|\n",
      "|       Action,Sci-Fi|    PH|     6.72|        9|\n",
      "|Drama,Fantasy,Horror|   XWW|     7.54|       13|\n",
      "+--------------------+------+---------+---------+\n",
      "only showing top 20 rows\n",
      "\n"
     ]
    },
    {
     "name": "stderr",
     "output_type": "stream",
     "text": [
      "                                                                                \r"
     ]
    }
   ],
   "source": [
    "#7 - Яка популярність телесеріалів за жанрами та регіонами, використовуючи середній рейтинг та кількість телесеріалів у кожній категорії.\n",
    "spark = SparkSession.builder.appName(\"TVGenresPopularity\").getOrCreate()\n",
    "\n",
    "akas = spark.read.option(\"delimiter\", \"\\t\").csv(\"./data/title.akas.tsv.gz\", header=True, inferSchema=True)\n",
    "ratings = spark.read.option(\"delimiter\", \"\\t\").csv(\"./data/title.ratings.tsv.gz\", header=True, inferSchema=True)\n",
    "title_basics = spark.read.option(\"delimiter\", \"\\t\").csv(\"./data/title.basics.tsv.gz\", header=True, inferSchema=True)\n",
    "\n",
    "merged_data = title_basics.join(akas, title_basics[\"tconst\"] == akas[\"titleId\"]).join(ratings, \"tconst\")\n",
    "\n",
    "tv_series_data = merged_data.filter(col(\"titleType\") == \"tvSeries\")\n",
    "\n",
    "genre_region_popularity = tv_series_data.groupBy(\"genres\", \"region\").agg(\n",
    "    avg(\"averageRating\").alias(\"avgRating\"),\n",
    "    count(\"*\").alias(\"numSeries\")\n",
    ")\n",
    "genre_region_popularity_formated = genre_region_popularity.withColumn(\"avgRating\",format_number(\"avgRating\", 2))\n",
    "genre_region_popularity_formated.show()\n",
    "\n"
   ]
  },
  {
   "cell_type": "code",
   "execution_count": 55,
   "metadata": {},
   "outputs": [
    {
     "name": "stderr",
     "output_type": "stream",
     "text": [
      "23/12/05 02:45:23 WARN RowBasedKeyValueBatch: Calling spill() on RowBasedKeyValueBatch. Will not spill but return 0.\n",
      "23/12/05 02:45:23 WARN RowBasedKeyValueBatch: Calling spill() on RowBasedKeyValueBatch. Will not spill but return 0.\n",
      "23/12/05 02:45:24 WARN RowBasedKeyValueBatch: Calling spill() on RowBasedKeyValueBatch. Will not spill but return 0.\n",
      "23/12/05 02:45:26 WARN RowBasedKeyValueBatch: Calling spill() on RowBasedKeyValueBatch. Will not spill but return 0.\n",
      "23/12/05 02:45:26 WARN RowBasedKeyValueBatch: Calling spill() on RowBasedKeyValueBatch. Will not spill but return 0.\n",
      "23/12/05 02:45:27 WARN RowBasedKeyValueBatch: Calling spill() on RowBasedKeyValueBatch. Will not spill but return 0.\n",
      "23/12/05 02:45:28 WARN RowBasedKeyValueBatch: Calling spill() on RowBasedKeyValueBatch. Will not spill but return 0.\n",
      "23/12/05 02:45:29 WARN RowBasedKeyValueBatch: Calling spill() on RowBasedKeyValueBatch. Will not spill but return 0.\n",
      "23/12/05 02:45:30 WARN RowBasedKeyValueBatch: Calling spill() on RowBasedKeyValueBatch. Will not spill but return 0.\n",
      "23/12/05 02:45:31 WARN RowBasedKeyValueBatch: Calling spill() on RowBasedKeyValueBatch. Will not spill but return 0.\n",
      "23/12/05 02:45:32 WARN RowBasedKeyValueBatch: Calling spill() on RowBasedKeyValueBatch. Will not spill but return 0.\n",
      "23/12/05 02:45:32 WARN RowBasedKeyValueBatch: Calling spill() on RowBasedKeyValueBatch. Will not spill but return 0.\n",
      "23/12/05 02:45:34 WARN RowBasedKeyValueBatch: Calling spill() on RowBasedKeyValueBatch. Will not spill but return 0.\n",
      "23/12/05 02:45:35 WARN RowBasedKeyValueBatch: Calling spill() on RowBasedKeyValueBatch. Will not spill but return 0.\n",
      "23/12/05 02:45:35 WARN RowBasedKeyValueBatch: Calling spill() on RowBasedKeyValueBatch. Will not spill but return 0.\n",
      "                                                                                \r"
     ]
    }
   ],
   "source": [
    "movies_per_genre.write.csv(\"./data/loaded_data/movie_count\", header= True)\n",
    "roles_per_film.limit(20).write.csv(\"./data/loaded_data/roles_per_film\", header= True)\n",
    "max_ratings_per_genre.limit(20).write.csv(\"./data/loaded_data/max_ratings_per_genre\", header= True)\n",
    "top_5_films_rating.write.csv(\"./data/loaded_data/top_5_films_rating\", header= True)\n",
    "sorted_director_stats_df.limit(20).write.csv(\"./data/loaded_data/sorted_director_stats_df\", header= True)\n",
    "less_voted_movies.limit(20).write.csv(\"./data/loaded_data/less_voted_movies\", header= True)\n",
    "genre_region_popularity_formated.write.csv(\"./data/loaded_data/genre_region_popularity\", header= True)"
   ]
  }
 ],
 "metadata": {
  "kernelspec": {
   "display_name": "Python 3",
   "language": "python",
   "name": "python3"
  },
  "language_info": {
   "codemirror_mode": {
    "name": "ipython",
    "version": 3
   },
   "file_extension": ".py",
   "mimetype": "text/x-python",
   "name": "python",
   "nbconvert_exporter": "python",
   "pygments_lexer": "ipython3",
   "version": "3.9.6"
  }
 },
 "nbformat": 4,
 "nbformat_minor": 2
}
